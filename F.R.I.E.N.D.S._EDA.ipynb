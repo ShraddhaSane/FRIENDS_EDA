{
 "cells": [
  {
   "cell_type": "markdown",
   "metadata": {
    "papermill": {
     "duration": 0.030271,
     "end_time": "2020-12-02T06:00:32.473345",
     "exception": false,
     "start_time": "2020-12-02T06:00:32.443074",
     "status": "completed"
    },
    "tags": []
   },
   "source": [
    "**For all the F.R.I.E.N.D.S. and Data Lovers!!**"
   ]
  },
  {
   "cell_type": "code",
   "execution_count": 1,
   "metadata": {
    "_cell_guid": "b1076dfc-b9ad-4769-8c92-a6c4dae69d19",
    "_uuid": "8f2839f25d086af736a60e9eeb907d3b93b6e0e5",
    "execution": {
     "iopub.execute_input": "2020-12-02T06:00:32.540605Z",
     "iopub.status.busy": "2020-12-02T06:00:32.539685Z",
     "iopub.status.idle": "2020-12-02T06:00:34.693178Z",
     "shell.execute_reply": "2020-12-02T06:00:34.692284Z"
    },
    "papermill": {
     "duration": 2.190893,
     "end_time": "2020-12-02T06:00:34.693344",
     "exception": false,
     "start_time": "2020-12-02T06:00:32.502451",
     "status": "completed"
    },
    "tags": []
   },
   "outputs": [],
   "source": [
    "# import the required libraries\n",
    "import numpy as np\n",
    "import pandas as pd \n",
    "import matplotlib.pyplot as plt\n",
    "import seaborn as sns\n",
    "import warnings\n",
    "warnings.filterwarnings('ignore')"
   ]
  },
  {
   "cell_type": "code",
   "execution_count": 2,
   "metadata": {
    "execution": {
     "iopub.execute_input": "2020-12-02T06:00:34.762911Z",
     "iopub.status.busy": "2020-12-02T06:00:34.762169Z",
     "iopub.status.idle": "2020-12-02T06:00:34.765147Z",
     "shell.execute_reply": "2020-12-02T06:00:34.764401Z"
    },
    "papermill": {
     "duration": 0.040608,
     "end_time": "2020-12-02T06:00:34.765272",
     "exception": false,
     "start_time": "2020-12-02T06:00:34.724664",
     "status": "completed"
    },
    "tags": []
   },
   "outputs": [],
   "source": [
    "# set the plot size\n",
    "plt.rcParams['figure.figsize'] = (10,5)"
   ]
  },
  {
   "cell_type": "code",
   "execution_count": 3,
   "metadata": {
    "_cell_guid": "79c7e3d0-c299-4dcb-8224-4455121ee9b0",
    "_uuid": "d629ff2d2480ee46fbb7e2d37f6b5fab8052498a",
    "execution": {
     "iopub.execute_input": "2020-12-02T06:00:34.832033Z",
     "iopub.status.busy": "2020-12-02T06:00:34.831231Z",
     "iopub.status.idle": "2020-12-02T06:00:34.877072Z",
     "shell.execute_reply": "2020-12-02T06:00:34.876465Z"
    },
    "papermill": {
     "duration": 0.081938,
     "end_time": "2020-12-02T06:00:34.877201",
     "exception": false,
     "start_time": "2020-12-02T06:00:34.795263",
     "status": "completed"
    },
    "tags": []
   },
   "outputs": [
    {
     "data": {
      "text/html": [
       "<div>\n",
       "<style scoped>\n",
       "    .dataframe tbody tr th:only-of-type {\n",
       "        vertical-align: middle;\n",
       "    }\n",
       "\n",
       "    .dataframe tbody tr th {\n",
       "        vertical-align: top;\n",
       "    }\n",
       "\n",
       "    .dataframe thead th {\n",
       "        text-align: right;\n",
       "    }\n",
       "</style>\n",
       "<table border=\"1\" class=\"dataframe\">\n",
       "  <thead>\n",
       "    <tr style=\"text-align: right;\">\n",
       "      <th></th>\n",
       "      <th>Year_of_prod</th>\n",
       "      <th>Season</th>\n",
       "      <th>Episode_Title</th>\n",
       "      <th>Duration</th>\n",
       "      <th>Summary</th>\n",
       "      <th>Director</th>\n",
       "      <th>Stars</th>\n",
       "      <th>Votes</th>\n",
       "    </tr>\n",
       "  </thead>\n",
       "  <tbody>\n",
       "    <tr>\n",
       "      <th>0</th>\n",
       "      <td>1994</td>\n",
       "      <td>1</td>\n",
       "      <td>The One with the Sonogram at the End</td>\n",
       "      <td>22</td>\n",
       "      <td>Ross finds out his ex-wife is pregnant. Rachel...</td>\n",
       "      <td>James Burrows</td>\n",
       "      <td>8.1</td>\n",
       "      <td>4888</td>\n",
       "    </tr>\n",
       "    <tr>\n",
       "      <th>1</th>\n",
       "      <td>1994</td>\n",
       "      <td>1</td>\n",
       "      <td>The One with the Thumb</td>\n",
       "      <td>22</td>\n",
       "      <td>Monica becomes irritated when everyone likes h...</td>\n",
       "      <td>James Burrows</td>\n",
       "      <td>8.2</td>\n",
       "      <td>4605</td>\n",
       "    </tr>\n",
       "    <tr>\n",
       "      <th>2</th>\n",
       "      <td>1994</td>\n",
       "      <td>1</td>\n",
       "      <td>The One with George Stephanopoulos</td>\n",
       "      <td>22</td>\n",
       "      <td>Joey and Chandler take Ross to a hockey game t...</td>\n",
       "      <td>James Burrows</td>\n",
       "      <td>8.1</td>\n",
       "      <td>4468</td>\n",
       "    </tr>\n",
       "    <tr>\n",
       "      <th>3</th>\n",
       "      <td>1994</td>\n",
       "      <td>1</td>\n",
       "      <td>The One with the East German Laundry Detergent</td>\n",
       "      <td>22</td>\n",
       "      <td>Eager to spend time with Rachel, Ross pretends...</td>\n",
       "      <td>Pamela Fryman</td>\n",
       "      <td>8.5</td>\n",
       "      <td>4438</td>\n",
       "    </tr>\n",
       "    <tr>\n",
       "      <th>4</th>\n",
       "      <td>1994</td>\n",
       "      <td>1</td>\n",
       "      <td>The One with the Butt</td>\n",
       "      <td>22</td>\n",
       "      <td>Monica's obsessiveness is put to the test afte...</td>\n",
       "      <td>Arlene Sanford</td>\n",
       "      <td>8.1</td>\n",
       "      <td>4274</td>\n",
       "    </tr>\n",
       "  </tbody>\n",
       "</table>\n",
       "</div>"
      ],
      "text/plain": [
       "   Year_of_prod  Season                                   Episode_Title  \\\n",
       "0          1994       1            The One with the Sonogram at the End   \n",
       "1          1994       1                          The One with the Thumb   \n",
       "2          1994       1              The One with George Stephanopoulos   \n",
       "3          1994       1  The One with the East German Laundry Detergent   \n",
       "4          1994       1                           The One with the Butt   \n",
       "\n",
       "   Duration                                            Summary  \\\n",
       "0        22  Ross finds out his ex-wife is pregnant. Rachel...   \n",
       "1        22  Monica becomes irritated when everyone likes h...   \n",
       "2        22  Joey and Chandler take Ross to a hockey game t...   \n",
       "3        22  Eager to spend time with Rachel, Ross pretends...   \n",
       "4        22  Monica's obsessiveness is put to the test afte...   \n",
       "\n",
       "         Director  Stars  Votes  \n",
       "0   James Burrows    8.1   4888  \n",
       "1   James Burrows    8.2   4605  \n",
       "2   James Burrows    8.1   4468  \n",
       "3   Pamela Fryman    8.5   4438  \n",
       "4  Arlene Sanford    8.1   4274  "
      ]
     },
     "execution_count": 3,
     "metadata": {},
     "output_type": "execute_result"
    }
   ],
   "source": [
    "# read the data\n",
    "df_friends = pd.read_csv('friends_dataset.csv')\n",
    "\n",
    "# check the first five observations\n",
    "df_friends.head()"
   ]
  },
  {
   "cell_type": "code",
   "execution_count": 4,
   "metadata": {
    "execution": {
     "iopub.execute_input": "2020-12-02T06:00:34.958918Z",
     "iopub.status.busy": "2020-12-02T06:00:34.957811Z",
     "iopub.status.idle": "2020-12-02T06:00:34.963054Z",
     "shell.execute_reply": "2020-12-02T06:00:34.962288Z"
    },
    "papermill": {
     "duration": 0.042964,
     "end_time": "2020-12-02T06:00:34.963185",
     "exception": false,
     "start_time": "2020-12-02T06:00:34.920221",
     "status": "completed"
    },
    "tags": []
   },
   "outputs": [
    {
     "data": {
      "text/plain": [
       "(235, 8)"
      ]
     },
     "execution_count": 4,
     "metadata": {},
     "output_type": "execute_result"
    }
   ],
   "source": [
    "# check the number of observations\n",
    "df_friends.shape"
   ]
  },
  {
   "cell_type": "code",
   "execution_count": 5,
   "metadata": {
    "execution": {
     "iopub.execute_input": "2020-12-02T06:00:35.034784Z",
     "iopub.status.busy": "2020-12-02T06:00:35.033885Z",
     "iopub.status.idle": "2020-12-02T06:00:35.038388Z",
     "shell.execute_reply": "2020-12-02T06:00:35.037657Z"
    },
    "papermill": {
     "duration": 0.043162,
     "end_time": "2020-12-02T06:00:35.038526",
     "exception": false,
     "start_time": "2020-12-02T06:00:34.995364",
     "status": "completed"
    },
    "tags": []
   },
   "outputs": [
    {
     "data": {
      "text/plain": [
       "Year_of_prod       int64\n",
       "Season             int64\n",
       "Episode_Title     object\n",
       "Duration           int64\n",
       "Summary           object\n",
       "Director          object\n",
       "Stars            float64\n",
       "Votes              int64\n",
       "dtype: object"
      ]
     },
     "execution_count": 5,
     "metadata": {},
     "output_type": "execute_result"
    }
   ],
   "source": [
    "# check the data type of each variable\n",
    "df_friends.dtypes"
   ]
  },
  {
   "cell_type": "markdown",
   "metadata": {
    "papermill": {
     "duration": 0.031397,
     "end_time": "2020-12-02T06:00:35.101837",
     "exception": false,
     "start_time": "2020-12-02T06:00:35.070440",
     "status": "completed"
    },
    "tags": []
   },
   "source": [
    "The data type of `Season` is integer. But by the data definition, it is the season identifier; thus it should be categoric."
   ]
  },
  {
   "cell_type": "code",
   "execution_count": 6,
   "metadata": {
    "execution": {
     "iopub.execute_input": "2020-12-02T06:00:35.173141Z",
     "iopub.status.busy": "2020-12-02T06:00:35.172090Z",
     "iopub.status.idle": "2020-12-02T06:00:35.174892Z",
     "shell.execute_reply": "2020-12-02T06:00:35.175450Z"
    },
    "papermill": {
     "duration": 0.041241,
     "end_time": "2020-12-02T06:00:35.175610",
     "exception": false,
     "start_time": "2020-12-02T06:00:35.134369",
     "status": "completed"
    },
    "tags": []
   },
   "outputs": [],
   "source": [
    "# change the data type of 'Season'\n",
    "df_friends.Season = df_friends.Season.astype('object')"
   ]
  },
  {
   "cell_type": "code",
   "execution_count": 7,
   "metadata": {
    "execution": {
     "iopub.execute_input": "2020-12-02T06:00:35.247615Z",
     "iopub.status.busy": "2020-12-02T06:00:35.246651Z",
     "iopub.status.idle": "2020-12-02T06:00:35.251414Z",
     "shell.execute_reply": "2020-12-02T06:00:35.250776Z"
    },
    "papermill": {
     "duration": 0.04373,
     "end_time": "2020-12-02T06:00:35.251536",
     "exception": false,
     "start_time": "2020-12-02T06:00:35.207806",
     "status": "completed"
    },
    "tags": []
   },
   "outputs": [
    {
     "data": {
      "text/plain": [
       "Year_of_prod       int64\n",
       "Season            object\n",
       "Episode_Title     object\n",
       "Duration           int64\n",
       "Summary           object\n",
       "Director          object\n",
       "Stars            float64\n",
       "Votes              int64\n",
       "dtype: object"
      ]
     },
     "execution_count": 7,
     "metadata": {},
     "output_type": "execute_result"
    }
   ],
   "source": [
    "# recheck the data type\n",
    "df_friends.dtypes"
   ]
  },
  {
   "cell_type": "markdown",
   "metadata": {
    "papermill": {
     "duration": 0.033156,
     "end_time": "2020-12-02T06:00:35.321451",
     "exception": false,
     "start_time": "2020-12-02T06:00:35.288295",
     "status": "completed"
    },
    "tags": []
   },
   "source": [
    "Now all the variables have an appropriate data type.\n",
    "\n",
    "\n",
    "### Summary Statistics\n",
    "Let us check the summary statistics for each numeric variable."
   ]
  },
  {
   "cell_type": "code",
   "execution_count": 8,
   "metadata": {
    "execution": {
     "iopub.execute_input": "2020-12-02T06:00:35.398873Z",
     "iopub.status.busy": "2020-12-02T06:00:35.397767Z",
     "iopub.status.idle": "2020-12-02T06:00:35.421300Z",
     "shell.execute_reply": "2020-12-02T06:00:35.420515Z"
    },
    "papermill": {
     "duration": 0.067022,
     "end_time": "2020-12-02T06:00:35.421444",
     "exception": false,
     "start_time": "2020-12-02T06:00:35.354422",
     "status": "completed"
    },
    "tags": []
   },
   "outputs": [
    {
     "data": {
      "text/html": [
       "<div>\n",
       "<style scoped>\n",
       "    .dataframe tbody tr th:only-of-type {\n",
       "        vertical-align: middle;\n",
       "    }\n",
       "\n",
       "    .dataframe tbody tr th {\n",
       "        vertical-align: top;\n",
       "    }\n",
       "\n",
       "    .dataframe thead th {\n",
       "        text-align: right;\n",
       "    }\n",
       "</style>\n",
       "<table border=\"1\" class=\"dataframe\">\n",
       "  <thead>\n",
       "    <tr style=\"text-align: right;\">\n",
       "      <th></th>\n",
       "      <th>Year_of_prod</th>\n",
       "      <th>Duration</th>\n",
       "      <th>Stars</th>\n",
       "      <th>Votes</th>\n",
       "    </tr>\n",
       "  </thead>\n",
       "  <tbody>\n",
       "    <tr>\n",
       "      <th>count</th>\n",
       "      <td>235.000000</td>\n",
       "      <td>235.000000</td>\n",
       "      <td>235.000000</td>\n",
       "      <td>235.000000</td>\n",
       "    </tr>\n",
       "    <tr>\n",
       "      <th>mean</th>\n",
       "      <td>1998.982979</td>\n",
       "      <td>22.340426</td>\n",
       "      <td>8.459574</td>\n",
       "      <td>3352.285106</td>\n",
       "    </tr>\n",
       "    <tr>\n",
       "      <th>std</th>\n",
       "      <td>2.831396</td>\n",
       "      <td>1.517372</td>\n",
       "      <td>0.397029</td>\n",
       "      <td>824.214570</td>\n",
       "    </tr>\n",
       "    <tr>\n",
       "      <th>min</th>\n",
       "      <td>1994.000000</td>\n",
       "      <td>22.000000</td>\n",
       "      <td>7.200000</td>\n",
       "      <td>2557.000000</td>\n",
       "    </tr>\n",
       "    <tr>\n",
       "      <th>25%</th>\n",
       "      <td>1997.000000</td>\n",
       "      <td>22.000000</td>\n",
       "      <td>8.200000</td>\n",
       "      <td>2885.500000</td>\n",
       "    </tr>\n",
       "    <tr>\n",
       "      <th>50%</th>\n",
       "      <td>1999.000000</td>\n",
       "      <td>22.000000</td>\n",
       "      <td>8.400000</td>\n",
       "      <td>3147.000000</td>\n",
       "    </tr>\n",
       "    <tr>\n",
       "      <th>75%</th>\n",
       "      <td>2001.000000</td>\n",
       "      <td>22.000000</td>\n",
       "      <td>8.700000</td>\n",
       "      <td>3579.500000</td>\n",
       "    </tr>\n",
       "    <tr>\n",
       "      <th>max</th>\n",
       "      <td>2004.000000</td>\n",
       "      <td>30.000000</td>\n",
       "      <td>9.700000</td>\n",
       "      <td>10381.000000</td>\n",
       "    </tr>\n",
       "  </tbody>\n",
       "</table>\n",
       "</div>"
      ],
      "text/plain": [
       "       Year_of_prod    Duration       Stars         Votes\n",
       "count    235.000000  235.000000  235.000000    235.000000\n",
       "mean    1998.982979   22.340426    8.459574   3352.285106\n",
       "std        2.831396    1.517372    0.397029    824.214570\n",
       "min     1994.000000   22.000000    7.200000   2557.000000\n",
       "25%     1997.000000   22.000000    8.200000   2885.500000\n",
       "50%     1999.000000   22.000000    8.400000   3147.000000\n",
       "75%     2001.000000   22.000000    8.700000   3579.500000\n",
       "max     2004.000000   30.000000    9.700000  10381.000000"
      ]
     },
     "execution_count": 8,
     "metadata": {},
     "output_type": "execute_result"
    }
   ],
   "source": [
    "# use 'describe()' to get the summary for numeric variables\n",
    "df_friends.describe()"
   ]
  },
  {
   "cell_type": "markdown",
   "metadata": {
    "papermill": {
     "duration": 0.033121,
     "end_time": "2020-12-02T06:00:35.488124",
     "exception": false,
     "start_time": "2020-12-02T06:00:35.455003",
     "status": "completed"
    },
    "tags": []
   },
   "source": [
    "The above output shows that on average the duration of episode is 22.34 minutes. The average star rating is 8.46. Also there are no missing values in the numeric variables.\n",
    "\n",
    "\n",
    "### Exploratory Analysis\n",
    "\n",
    "We can have various questions by looking at the dataset like for how many years the show was being produced? How many seasons are there? Which is the highest rated episode? and so on. We analyze each of the variable in this section. \n",
    "\n",
    "#### In which year the show was produced?"
   ]
  },
  {
   "cell_type": "code",
   "execution_count": 9,
   "metadata": {
    "execution": {
     "iopub.execute_input": "2020-12-02T06:00:35.561513Z",
     "iopub.status.busy": "2020-12-02T06:00:35.560410Z",
     "iopub.status.idle": "2020-12-02T06:00:35.566342Z",
     "shell.execute_reply": "2020-12-02T06:00:35.565594Z"
    },
    "papermill": {
     "duration": 0.045178,
     "end_time": "2020-12-02T06:00:35.566471",
     "exception": false,
     "start_time": "2020-12-02T06:00:35.521293",
     "status": "completed"
    },
    "tags": []
   },
   "outputs": [
    {
     "data": {
      "text/plain": [
       "array([1994, 1995, 1996, 1997, 1998, 1999, 2000, 2001, 2002, 2003, 2004],\n",
       "      dtype=int64)"
      ]
     },
     "execution_count": 9,
     "metadata": {},
     "output_type": "execute_result"
    }
   ],
   "source": [
    "# use the 'unique()' to find the production years\n",
    "df_friends.Year_of_prod.unique()"
   ]
  },
  {
   "cell_type": "markdown",
   "metadata": {
    "papermill": {
     "duration": 0.033897,
     "end_time": "2020-12-02T06:00:35.635071",
     "exception": false,
     "start_time": "2020-12-02T06:00:35.601174",
     "status": "completed"
    },
    "tags": []
   },
   "source": [
    "The output shows that the shows was produced between years 1994-2004.\n",
    "\n",
    "#### How many seasons of F.R.I.E.N.D.S. are there?"
   ]
  },
  {
   "cell_type": "code",
   "execution_count": 10,
   "metadata": {
    "execution": {
     "iopub.execute_input": "2020-12-02T06:00:35.709624Z",
     "iopub.status.busy": "2020-12-02T06:00:35.708627Z",
     "iopub.status.idle": "2020-12-02T06:00:35.712653Z",
     "shell.execute_reply": "2020-12-02T06:00:35.713223Z"
    },
    "papermill": {
     "duration": 0.044239,
     "end_time": "2020-12-02T06:00:35.713387",
     "exception": false,
     "start_time": "2020-12-02T06:00:35.669148",
     "status": "completed"
    },
    "tags": []
   },
   "outputs": [
    {
     "data": {
      "text/plain": [
       "10"
      ]
     },
     "execution_count": 10,
     "metadata": {},
     "output_type": "execute_result"
    }
   ],
   "source": [
    "# find the unique count of seasons\n",
    "df_friends.Season.nunique()"
   ]
  },
  {
   "cell_type": "markdown",
   "metadata": {
    "papermill": {
     "duration": 0.03411,
     "end_time": "2020-12-02T06:00:35.781936",
     "exception": false,
     "start_time": "2020-12-02T06:00:35.747826",
     "status": "completed"
    },
    "tags": []
   },
   "source": [
    "The series is divided into 10 different seasons."
   ]
  },
  {
   "cell_type": "markdown",
   "metadata": {
    "papermill": {
     "duration": 0.033937,
     "end_time": "2020-12-02T06:00:35.850458",
     "exception": false,
     "start_time": "2020-12-02T06:00:35.816521",
     "status": "completed"
    },
    "tags": []
   },
   "source": [
    "#### In which year the highest number of episodes were produced?"
   ]
  },
  {
   "cell_type": "code",
   "execution_count": 11,
   "metadata": {
    "execution": {
     "iopub.execute_input": "2020-12-02T06:00:35.934161Z",
     "iopub.status.busy": "2020-12-02T06:00:35.933286Z",
     "iopub.status.idle": "2020-12-02T06:00:36.204611Z",
     "shell.execute_reply": "2020-12-02T06:00:36.203867Z"
    },
    "papermill": {
     "duration": 0.31923,
     "end_time": "2020-12-02T06:00:36.204742",
     "exception": false,
     "start_time": "2020-12-02T06:00:35.885512",
     "status": "completed"
    },
    "tags": []
   },
   "outputs": [
    {
     "data": {
      "image/png": "[encoded data removed]",
      "text/plain": [
       "<Figure size 720x360 with 1 Axes>"
      ]
     },
     "metadata": {
      "needs_background": "light"
     },
     "output_type": "display_data"
    }
   ],
   "source": [
    "# use a pivot table to find the number of episodes produced in each year\n",
    "table = df_friends.pivot_table(values='Season', index='Year_of_prod', aggfunc='count')\n",
    "\n",
    "# plot a bar plot to visualize the number of episodes\n",
    "plt.bar(x = table.index, height = table.Season, color = 'slateblue')\n",
    "\n",
    "# add the title and axes labels\n",
    "plt.xlabel('Season')\n",
    "plt.ylabel('Number of Episodes')\n",
    "plt.title('Number of Episodes in Each Year')\n",
    "\n",
    "plt.show()"
   ]
  },
  {
   "cell_type": "markdown",
   "metadata": {
    "papermill": {
     "duration": 0.035437,
     "end_time": "2020-12-02T06:00:36.275893",
     "exception": false,
     "start_time": "2020-12-02T06:00:36.240456",
     "status": "completed"
    },
    "tags": []
   },
   "source": [
    "We can see that the in the years 1996, 1997, 2000, and 2001 maximum (= 25) episodes were produced. In 1994 there are only 9 episodes.\n",
    "\n",
    "#### In which year the episode with longest duration was produced?"
   ]
  },
  {
   "cell_type": "code",
   "execution_count": 12,
   "metadata": {
    "execution": {
     "iopub.execute_input": "2020-12-02T06:00:36.365251Z",
     "iopub.status.busy": "2020-12-02T06:00:36.364143Z",
     "iopub.status.idle": "2020-12-02T06:00:36.368404Z",
     "shell.execute_reply": "2020-12-02T06:00:36.367832Z"
    },
    "papermill": {
     "duration": 0.056981,
     "end_time": "2020-12-02T06:00:36.368538",
     "exception": false,
     "start_time": "2020-12-02T06:00:36.311557",
     "status": "completed"
    },
    "tags": []
   },
   "outputs": [
    {
     "data": {
      "text/html": [
       "<div>\n",
       "<style scoped>\n",
       "    .dataframe tbody tr th:only-of-type {\n",
       "        vertical-align: middle;\n",
       "    }\n",
       "\n",
       "    .dataframe tbody tr th {\n",
       "        vertical-align: top;\n",
       "    }\n",
       "\n",
       "    .dataframe thead th {\n",
       "        text-align: right;\n",
       "    }\n",
       "</style>\n",
       "<table border=\"1\" class=\"dataframe\">\n",
       "  <thead>\n",
       "    <tr style=\"text-align: right;\">\n",
       "      <th></th>\n",
       "      <th>Year_of_prod</th>\n",
       "      <th>Season</th>\n",
       "      <th>Episode_Title</th>\n",
       "      <th>Duration</th>\n",
       "      <th>Summary</th>\n",
       "      <th>Director</th>\n",
       "      <th>Stars</th>\n",
       "      <th>Votes</th>\n",
       "    </tr>\n",
       "  </thead>\n",
       "  <tbody>\n",
       "    <tr>\n",
       "      <th>94</th>\n",
       "      <td>1998</td>\n",
       "      <td>4</td>\n",
       "      <td>The One with Ross's Wedding</td>\n",
       "      <td>30</td>\n",
       "      <td>Phoebe tries to help Rachel deal with her feel...</td>\n",
       "      <td>Kevin Bright</td>\n",
       "      <td>8.7</td>\n",
       "      <td>3343</td>\n",
       "    </tr>\n",
       "    <tr>\n",
       "      <th>95</th>\n",
       "      <td>1998</td>\n",
       "      <td>4</td>\n",
       "      <td>The One with Ross's Wedding</td>\n",
       "      <td>30</td>\n",
       "      <td>Phoebe tries to warn the gang that Rachel is c...</td>\n",
       "      <td>Kevin Bright</td>\n",
       "      <td>9.2</td>\n",
       "      <td>4217</td>\n",
       "    </tr>\n",
       "    <tr>\n",
       "      <th>134</th>\n",
       "      <td>2000</td>\n",
       "      <td>6</td>\n",
       "      <td>The One That Could Have Been</td>\n",
       "      <td>30</td>\n",
       "      <td>When Rachel hears Barry and Mindy are getting ...</td>\n",
       "      <td>Michael Lembeck</td>\n",
       "      <td>8.5</td>\n",
       "      <td>3097</td>\n",
       "    </tr>\n",
       "    <tr>\n",
       "      <th>135</th>\n",
       "      <td>2000</td>\n",
       "      <td>6</td>\n",
       "      <td>The One That Could Have Been</td>\n",
       "      <td>30</td>\n",
       "      <td>The gang continue to think about how different...</td>\n",
       "      <td>Michael Lembeck</td>\n",
       "      <td>8.5</td>\n",
       "      <td>3037</td>\n",
       "    </tr>\n",
       "    <tr>\n",
       "      <th>143</th>\n",
       "      <td>2000</td>\n",
       "      <td>6</td>\n",
       "      <td>The One with the Proposal</td>\n",
       "      <td>30</td>\n",
       "      <td>Chandler's plan to propose to Monica at dinner...</td>\n",
       "      <td>Kevin Bright</td>\n",
       "      <td>8.8</td>\n",
       "      <td>3065</td>\n",
       "    </tr>\n",
       "    <tr>\n",
       "      <th>144</th>\n",
       "      <td>2000</td>\n",
       "      <td>6</td>\n",
       "      <td>The One with the Proposal</td>\n",
       "      <td>30</td>\n",
       "      <td>Chandler continues to pretend to hate the idea...</td>\n",
       "      <td>Kevin Bright</td>\n",
       "      <td>9.3</td>\n",
       "      <td>4186</td>\n",
       "    </tr>\n",
       "    <tr>\n",
       "      <th>233</th>\n",
       "      <td>2004</td>\n",
       "      <td>10</td>\n",
       "      <td>The Last One</td>\n",
       "      <td>30</td>\n",
       "      <td>Erica gives birth to the baby that Monica and ...</td>\n",
       "      <td>Kevin Bright</td>\n",
       "      <td>9.5</td>\n",
       "      <td>6221</td>\n",
       "    </tr>\n",
       "    <tr>\n",
       "      <th>234</th>\n",
       "      <td>2004</td>\n",
       "      <td>10</td>\n",
       "      <td>The Last One</td>\n",
       "      <td>30</td>\n",
       "      <td>Phoebe races Ross to the airport in a bid to s...</td>\n",
       "      <td>Kevin Bright</td>\n",
       "      <td>9.7</td>\n",
       "      <td>10381</td>\n",
       "    </tr>\n",
       "  </tbody>\n",
       "</table>\n",
       "</div>"
      ],
      "text/plain": [
       "     Year_of_prod Season                 Episode_Title  Duration  \\\n",
       "94           1998      4   The One with Ross's Wedding        30   \n",
       "95           1998      4   The One with Ross's Wedding        30   \n",
       "134          2000      6  The One That Could Have Been        30   \n",
       "135          2000      6  The One That Could Have Been        30   \n",
       "143          2000      6     The One with the Proposal        30   \n",
       "144          2000      6     The One with the Proposal        30   \n",
       "233          2004     10                  The Last One        30   \n",
       "234          2004     10                  The Last One        30   \n",
       "\n",
       "                                               Summary         Director  \\\n",
       "94   Phoebe tries to help Rachel deal with her feel...     Kevin Bright   \n",
       "95   Phoebe tries to warn the gang that Rachel is c...     Kevin Bright   \n",
       "134  When Rachel hears Barry and Mindy are getting ...  Michael Lembeck   \n",
       "135  The gang continue to think about how different...  Michael Lembeck   \n",
       "143  Chandler's plan to propose to Monica at dinner...     Kevin Bright   \n",
       "144  Chandler continues to pretend to hate the idea...     Kevin Bright   \n",
       "233  Erica gives birth to the baby that Monica and ...     Kevin Bright   \n",
       "234  Phoebe races Ross to the airport in a bid to s...     Kevin Bright   \n",
       "\n",
       "     Stars  Votes  \n",
       "94     8.7   3343  \n",
       "95     9.2   4217  \n",
       "134    8.5   3097  \n",
       "135    8.5   3037  \n",
       "143    8.8   3065  \n",
       "144    9.3   4186  \n",
       "233    9.5   6221  \n",
       "234    9.7  10381  "
      ]
     },
     "execution_count": 12,
     "metadata": {},
     "output_type": "execute_result"
    }
   ],
   "source": [
    "# print the inforamtion of episode with longest duration\n",
    "df_friends[df_friends['Duration'] == df_friends['Duration'].max()]"
   ]
  },
  {
   "cell_type": "markdown",
   "metadata": {
    "papermill": {
     "duration": 0.035868,
     "end_time": "2020-12-02T06:00:36.441114",
     "exception": false,
     "start_time": "2020-12-02T06:00:36.405246",
     "status": "completed"
    },
    "tags": []
   },
   "source": [
    "Majority of the episode with longest duration (30 min) were produced in 2000. Those episodes were from the season 6.\n",
    "We can see that the episode titles are repetitive; this is maybe because there are two or more parts of the single episode.\n",
    "\n",
    "#### What is the total duration (in minutes) of each season?"
   ]
  },
  {
   "cell_type": "code",
   "execution_count": 13,
   "metadata": {
    "execution": {
     "iopub.execute_input": "2020-12-02T06:00:36.538369Z",
     "iopub.status.busy": "2020-12-02T06:00:36.536919Z",
     "iopub.status.idle": "2020-12-02T06:00:36.711865Z",
     "shell.execute_reply": "2020-12-02T06:00:36.711141Z"
    },
    "papermill": {
     "duration": 0.234674,
     "end_time": "2020-12-02T06:00:36.712015",
     "exception": false,
     "start_time": "2020-12-02T06:00:36.477341",
     "status": "completed"
    },
    "tags": []
   },
   "outputs": [
    {
     "data": {
      "image/png": "[encoded data removed]",
      "text/plain": [
       "<Figure size 720x360 with 1 Axes>"
      ]
     },
     "metadata": {
      "needs_background": "light"
     },
     "output_type": "display_data"
    }
   ],
   "source": [
    "# use a pivot table to find the total duration of each season\n",
    "table = df_friends.pivot_table(values='Duration', index='Season', aggfunc='sum')\n",
    "\n",
    "# plot the bar plot to visualize the longest and shortest running season\n",
    "plt.bar(x = table.index, height = table.Duration, color = 'slateblue')\n",
    "\n",
    "# set the x-axis labels \n",
    "plt.xticks(ticks=np.arange(1,11), labels=np.arange(1,11))\n",
    "\n",
    "# add the title and axes labels\n",
    "plt.xlabel('Season')\n",
    "plt.ylabel('Duration (in minutes)')\n",
    "plt.title('Duration of the Season')\n",
    "\n",
    "plt.show()"
   ]
  },
  {
   "cell_type": "markdown",
   "metadata": {
    "papermill": {
     "duration": 0.036947,
     "end_time": "2020-12-02T06:00:36.786544",
     "exception": false,
     "start_time": "2020-12-02T06:00:36.749597",
     "status": "completed"
    },
    "tags": []
   },
   "source": [
    "The above plot shows that the 6th season was the longest running season and the shortest was the 10th season. The plot shows that all the seasons except the last one have duration of at least 500 minutes.\n",
    "\n",
    "#### In which year the highest number of directors have worked on the show?"
   ]
  },
  {
   "cell_type": "code",
   "execution_count": 14,
   "metadata": {
    "execution": {
     "iopub.execute_input": "2020-12-02T06:00:36.881194Z",
     "iopub.status.busy": "2020-12-02T06:00:36.880329Z",
     "iopub.status.idle": "2020-12-02T06:00:36.883918Z",
     "shell.execute_reply": "2020-12-02T06:00:36.884554Z"
    },
    "papermill": {
     "duration": 0.060859,
     "end_time": "2020-12-02T06:00:36.884714",
     "exception": false,
     "start_time": "2020-12-02T06:00:36.823855",
     "status": "completed"
    },
    "tags": []
   },
   "outputs": [
    {
     "name": "stdout",
     "output_type": "stream",
     "text": [
      "{1994: 4, 1995: 10, 1996: 8, 1997: 11, 1998: 9, 1999: 9, 2000: 5, 2001: 6, 2002: 6, 2003: 6, 2004: 3}\n"
     ]
    }
   ],
   "source": [
    "# create an empty dictionary to store the number of directors worked in each year\n",
    "yr_dir = {}\n",
    "\n",
    "# use for loop to calculate the number of directors worked \n",
    "for year in df_friends['Year_of_prod'].unique():\n",
    "    num_dir = df_friends[df_friends['Year_of_prod'] == year]['Director'].nunique()\n",
    "    # create a pair of key and value\n",
    "    pair = {year:num_dir}\n",
    "    yr_dir.update(pair)\n",
    "\n",
    "# print the dictionary\n",
    "print(yr_dir)"
   ]
  },
  {
   "cell_type": "markdown",
   "metadata": {
    "papermill": {
     "duration": 0.038018,
     "end_time": "2020-12-02T06:00:36.964170",
     "exception": false,
     "start_time": "2020-12-02T06:00:36.926152",
     "status": "completed"
    },
    "tags": []
   },
   "source": [
    "In 1997, total 25 episodes were produced for which 11 directors have worked. Also, all the episodes in the year 2004 were produced by the 3 different directors.\n",
    "\n",
    "#### Which director has worked in most of the seasons?"
   ]
  },
  {
   "cell_type": "code",
   "execution_count": 15,
   "metadata": {
    "execution": {
     "iopub.execute_input": "2020-12-02T06:00:37.214357Z",
     "iopub.status.busy": "2020-12-02T06:00:37.213430Z",
     "iopub.status.idle": "2020-12-02T06:00:37.216092Z",
     "shell.execute_reply": "2020-12-02T06:00:37.216600Z"
    },
    "papermill": {
     "duration": 0.214028,
     "end_time": "2020-12-02T06:00:37.216757",
     "exception": false,
     "start_time": "2020-12-02T06:00:37.002729",
     "status": "completed"
    },
    "tags": []
   },
   "outputs": [],
   "source": [
    "# create an empty list to store the list of directors for each season\n",
    "all_dir = []\n",
    "for i in df_friends.Season:\n",
    "    \n",
    "    # create a list of directors\n",
    "    s_dir = df_friends[df_friends['Season'] == i]['Director'].to_list()\n",
    "    \n",
    "    # append the list of directors in each season to the empty list\n",
    "    all_dir.append(s_dir)"
   ]
  },
  {
   "cell_type": "code",
   "execution_count": 16,
   "metadata": {
    "execution": {
     "iopub.execute_input": "2020-12-02T06:00:37.301180Z",
     "iopub.status.busy": "2020-12-02T06:00:37.300121Z",
     "iopub.status.idle": "2020-12-02T06:00:37.305706Z",
     "shell.execute_reply": "2020-12-02T06:00:37.306825Z"
    },
    "papermill": {
     "duration": 0.051775,
     "end_time": "2020-12-02T06:00:37.307014",
     "exception": false,
     "start_time": "2020-12-02T06:00:37.255239",
     "status": "completed"
    },
    "tags": []
   },
   "outputs": [
    {
     "data": {
      "text/plain": [
       "{'Kevin Bright'}"
      ]
     },
     "execution_count": 16,
     "metadata": {},
     "output_type": "execute_result"
    }
   ],
   "source": [
    "# take the intersection of all the lists in 'all_dir'\n",
    "set(all_dir[0]).intersection(*all_dir[1:])"
   ]
  },
  {
   "cell_type": "markdown",
   "metadata": {
    "papermill": {
     "duration": 0.038697,
     "end_time": "2020-12-02T06:00:37.384837",
     "exception": false,
     "start_time": "2020-12-02T06:00:37.346140",
     "status": "completed"
    },
    "tags": []
   },
   "source": [
    "OH MY GOD! `Kevin Bright` is the only director who has worked on all the seasons of the show.\n",
    "\n",
    "#### Find the number of episodes directed by each director"
   ]
  },
  {
   "cell_type": "code",
   "execution_count": 17,
   "metadata": {
    "execution": {
     "iopub.execute_input": "2020-12-02T06:00:37.481115Z",
     "iopub.status.busy": "2020-12-02T06:00:37.480114Z",
     "iopub.status.idle": "2020-12-02T06:00:37.484782Z",
     "shell.execute_reply": "2020-12-02T06:00:37.485317Z"
    },
    "papermill": {
     "duration": 0.06144,
     "end_time": "2020-12-02T06:00:37.485474",
     "exception": false,
     "start_time": "2020-12-02T06:00:37.424034",
     "status": "completed"
    },
    "tags": []
   },
   "outputs": [
    {
     "data": {
      "text/html": [
       "<div>\n",
       "<style scoped>\n",
       "    .dataframe tbody tr th:only-of-type {\n",
       "        vertical-align: middle;\n",
       "    }\n",
       "\n",
       "    .dataframe tbody tr th {\n",
       "        vertical-align: top;\n",
       "    }\n",
       "\n",
       "    .dataframe thead th {\n",
       "        text-align: right;\n",
       "    }\n",
       "</style>\n",
       "<table border=\"1\" class=\"dataframe\">\n",
       "  <thead>\n",
       "    <tr style=\"text-align: right;\">\n",
       "      <th></th>\n",
       "      <th>Episode_Title</th>\n",
       "    </tr>\n",
       "    <tr>\n",
       "      <th>Director</th>\n",
       "      <th></th>\n",
       "    </tr>\n",
       "  </thead>\n",
       "  <tbody>\n",
       "    <tr>\n",
       "      <th>Alan Myerson</th>\n",
       "      <td>2</td>\n",
       "    </tr>\n",
       "    <tr>\n",
       "      <th>Andrew Tsao</th>\n",
       "      <td>1</td>\n",
       "    </tr>\n",
       "    <tr>\n",
       "      <th>Arlene Sanford</th>\n",
       "      <td>1</td>\n",
       "    </tr>\n",
       "    <tr>\n",
       "      <th>Ben Weiss</th>\n",
       "      <td>10</td>\n",
       "    </tr>\n",
       "    <tr>\n",
       "      <th>Dana De Vally Piazza</th>\n",
       "      <td>3</td>\n",
       "    </tr>\n",
       "    <tr>\n",
       "      <th>David Schwimmer</th>\n",
       "      <td>10</td>\n",
       "    </tr>\n",
       "    <tr>\n",
       "      <th>David Steinberg</th>\n",
       "      <td>1</td>\n",
       "    </tr>\n",
       "    <tr>\n",
       "      <th>Ellen Gittelsohn</th>\n",
       "      <td>1</td>\n",
       "    </tr>\n",
       "    <tr>\n",
       "      <th>Gail Mancuso</th>\n",
       "      <td>14</td>\n",
       "    </tr>\n",
       "    <tr>\n",
       "      <th>Gary Halvorson</th>\n",
       "      <td>54</td>\n",
       "    </tr>\n",
       "    <tr>\n",
       "      <th>James Burrows</th>\n",
       "      <td>14</td>\n",
       "    </tr>\n",
       "    <tr>\n",
       "      <th>Joe Regalbuto</th>\n",
       "      <td>1</td>\n",
       "    </tr>\n",
       "    <tr>\n",
       "      <th>Kevin Bright</th>\n",
       "      <td>54</td>\n",
       "    </tr>\n",
       "    <tr>\n",
       "      <th>Mary Kay Place</th>\n",
       "      <td>1</td>\n",
       "    </tr>\n",
       "    <tr>\n",
       "      <th>Michael Lembeck</th>\n",
       "      <td>24</td>\n",
       "    </tr>\n",
       "    <tr>\n",
       "      <th>Pamela Fryman</th>\n",
       "      <td>2</td>\n",
       "    </tr>\n",
       "    <tr>\n",
       "      <th>Paul Lazarus</th>\n",
       "      <td>1</td>\n",
       "    </tr>\n",
       "    <tr>\n",
       "      <th>Peter Bonerz</th>\n",
       "      <td>12</td>\n",
       "    </tr>\n",
       "    <tr>\n",
       "      <th>Robby Benson</th>\n",
       "      <td>6</td>\n",
       "    </tr>\n",
       "    <tr>\n",
       "      <th>Roger Christiansen</th>\n",
       "      <td>2</td>\n",
       "    </tr>\n",
       "    <tr>\n",
       "      <th>Sam Simon</th>\n",
       "      <td>1</td>\n",
       "    </tr>\n",
       "    <tr>\n",
       "      <th>Sheldon Epps</th>\n",
       "      <td>3</td>\n",
       "    </tr>\n",
       "    <tr>\n",
       "      <th>Shelley Jensen</th>\n",
       "      <td>6</td>\n",
       "    </tr>\n",
       "    <tr>\n",
       "      <th>Stephen Prime</th>\n",
       "      <td>1</td>\n",
       "    </tr>\n",
       "    <tr>\n",
       "      <th>Steve Zuckerman</th>\n",
       "      <td>2</td>\n",
       "    </tr>\n",
       "    <tr>\n",
       "      <th>Terry Hughes</th>\n",
       "      <td>5</td>\n",
       "    </tr>\n",
       "    <tr>\n",
       "      <th>Thomas Schlamme</th>\n",
       "      <td>2</td>\n",
       "    </tr>\n",
       "    <tr>\n",
       "      <th>Todd Holland</th>\n",
       "      <td>1</td>\n",
       "    </tr>\n",
       "  </tbody>\n",
       "</table>\n",
       "</div>"
      ],
      "text/plain": [
       "                      Episode_Title\n",
       "Director                           \n",
       "Alan Myerson                      2\n",
       "Andrew Tsao                       1\n",
       "Arlene Sanford                    1\n",
       "Ben Weiss                        10\n",
       "Dana De Vally Piazza              3\n",
       "David Schwimmer                  10\n",
       "David Steinberg                   1\n",
       "Ellen Gittelsohn                  1\n",
       "Gail Mancuso                     14\n",
       "Gary Halvorson                   54\n",
       "James Burrows                    14\n",
       "Joe Regalbuto                     1\n",
       "Kevin Bright                     54\n",
       "Mary Kay Place                    1\n",
       "Michael Lembeck                  24\n",
       "Pamela Fryman                     2\n",
       "Paul Lazarus                      1\n",
       "Peter Bonerz                     12\n",
       "Robby Benson                      6\n",
       "Roger Christiansen                2\n",
       "Sam Simon                         1\n",
       "Sheldon Epps                      3\n",
       "Shelley Jensen                    6\n",
       "Stephen Prime                     1\n",
       "Steve Zuckerman                   2\n",
       "Terry Hughes                      5\n",
       "Thomas Schlamme                   2\n",
       "Todd Holland                      1"
      ]
     },
     "execution_count": 17,
     "metadata": {},
     "output_type": "execute_result"
    }
   ],
   "source": [
    "# use a pivot table to find the average rating for each director\n",
    "df_friends.pivot_table(values='Episode_Title', index='Director', aggfunc='count')"
   ]
  },
  {
   "cell_type": "markdown",
   "metadata": {
    "papermill": {
     "duration": 0.039988,
     "end_time": "2020-12-02T06:00:37.565587",
     "exception": false,
     "start_time": "2020-12-02T06:00:37.525599",
     "status": "completed"
    },
    "tags": []
   },
   "source": [
    "It can be seen that most of the directors have directed only 1 or 2 episodes. Most of the episodes were directed by `Kevin Bright` and `Gary Halvorson`. The output shows that our `Dinosaur Guy` i.e. Dr. Ross Geller (David Schwimmer) has directed total 10 episodes on the show.😃 \n",
    "\n",
    "#### Visualize the average stars received in each season"
   ]
  },
  {
   "cell_type": "code",
   "execution_count": 18,
   "metadata": {
    "execution": {
     "iopub.execute_input": "2020-12-02T06:00:37.664836Z",
     "iopub.status.busy": "2020-12-02T06:00:37.663943Z",
     "iopub.status.idle": "2020-12-02T06:00:37.832856Z",
     "shell.execute_reply": "2020-12-02T06:00:37.832239Z"
    },
    "papermill": {
     "duration": 0.226536,
     "end_time": "2020-12-02T06:00:37.832990",
     "exception": false,
     "start_time": "2020-12-02T06:00:37.606454",
     "status": "completed"
    },
    "tags": []
   },
   "outputs": [
    {
     "data": {
      "image/png": "[encoded data removed]",
      "text/plain": [
       "<Figure size 720x360 with 1 Axes>"
      ]
     },
     "metadata": {
      "needs_background": "light"
     },
     "output_type": "display_data"
    }
   ],
   "source": [
    "# use a pivot table to find the average star rating of each season\n",
    "table = df_friends.pivot_table(values='Stars', index='Season', aggfunc='mean')\n",
    "\n",
    "# plot the bar plot to visualize the average stars for each season\n",
    "plt.bar(x = table.index, height = table.Stars, color = 'lightgreen')\n",
    "\n",
    "# set the x-axis labels \n",
    "plt.xticks(ticks=np.arange(1,11), labels=np.arange(1,11))\n",
    "\n",
    "# add the title and axes labels\n",
    "plt.xlabel('Season')\n",
    "plt.ylabel('Average Stars')\n",
    "plt.title('Average Star Rating of the Season')\n",
    "\n",
    "plt.show()"
   ]
  },
  {
   "cell_type": "markdown",
   "metadata": {
    "papermill": {
     "duration": 0.047941,
     "end_time": "2020-12-02T06:00:37.921655",
     "exception": false,
     "start_time": "2020-12-02T06:00:37.873714",
     "status": "completed"
    },
    "tags": []
   },
   "source": [
    "All the seasons have average rating greater than 8. The last season (10th season) received highest average stars.\n",
    "\n",
    "#### Find out the episode with the lowest rating?"
   ]
  },
  {
   "cell_type": "code",
   "execution_count": 19,
   "metadata": {
    "execution": {
     "iopub.execute_input": "2020-12-02T06:00:38.034099Z",
     "iopub.status.busy": "2020-12-02T06:00:38.033214Z",
     "iopub.status.idle": "2020-12-02T06:00:38.044329Z",
     "shell.execute_reply": "2020-12-02T06:00:38.043475Z"
    },
    "papermill": {
     "duration": 0.076079,
     "end_time": "2020-12-02T06:00:38.044492",
     "exception": false,
     "start_time": "2020-12-02T06:00:37.968413",
     "status": "completed"
    },
    "tags": []
   },
   "outputs": [
    {
     "data": {
      "text/html": [
       "<div>\n",
       "<style scoped>\n",
       "    .dataframe tbody tr th:only-of-type {\n",
       "        vertical-align: middle;\n",
       "    }\n",
       "\n",
       "    .dataframe tbody tr th {\n",
       "        vertical-align: top;\n",
       "    }\n",
       "\n",
       "    .dataframe thead th {\n",
       "        text-align: right;\n",
       "    }\n",
       "</style>\n",
       "<table border=\"1\" class=\"dataframe\">\n",
       "  <thead>\n",
       "    <tr style=\"text-align: right;\">\n",
       "      <th></th>\n",
       "      <th>Year_of_prod</th>\n",
       "      <th>Season</th>\n",
       "      <th>Episode_Title</th>\n",
       "      <th>Duration</th>\n",
       "      <th>Summary</th>\n",
       "      <th>Director</th>\n",
       "      <th>Stars</th>\n",
       "      <th>Votes</th>\n",
       "    </tr>\n",
       "  </thead>\n",
       "  <tbody>\n",
       "    <tr>\n",
       "      <th>92</th>\n",
       "      <td>1998</td>\n",
       "      <td>4</td>\n",
       "      <td>The One with the Invitation</td>\n",
       "      <td>22</td>\n",
       "      <td>As Ross and Emily send out wedding invitations...</td>\n",
       "      <td>Peter Bonerz</td>\n",
       "      <td>7.2</td>\n",
       "      <td>3364</td>\n",
       "    </tr>\n",
       "  </tbody>\n",
       "</table>\n",
       "</div>"
      ],
      "text/plain": [
       "    Year_of_prod Season                Episode_Title  Duration  \\\n",
       "92          1998      4  The One with the Invitation        22   \n",
       "\n",
       "                                              Summary      Director  Stars  \\\n",
       "92  As Ross and Emily send out wedding invitations...  Peter Bonerz    7.2   \n",
       "\n",
       "    Votes  \n",
       "92   3364  "
      ]
     },
     "execution_count": 19,
     "metadata": {},
     "output_type": "execute_result"
    }
   ],
   "source": [
    "# episode with lowest rating\n",
    "df_friends[df_friends['Stars'] == df_friends['Stars'].min()]"
   ]
  },
  {
   "cell_type": "markdown",
   "metadata": {
    "papermill": {
     "duration": 0.042253,
     "end_time": "2020-12-02T06:00:38.130584",
     "exception": false,
     "start_time": "2020-12-02T06:00:38.088331",
     "status": "completed"
    },
    "tags": []
   },
   "source": [
    "The episode in the 4th season produced in 1998 got the lowest rating as 7.2. It can be seen that this episode was not well received by the audience. The output shows that the this episode was directed by Peter Bonerz.\n",
    "\n",
    "#### Visualize the average votes in each season"
   ]
  },
  {
   "cell_type": "code",
   "execution_count": 20,
   "metadata": {
    "execution": {
     "iopub.execute_input": "2020-12-02T06:00:38.243101Z",
     "iopub.status.busy": "2020-12-02T06:00:38.241032Z",
     "iopub.status.idle": "2020-12-02T06:00:38.421091Z",
     "shell.execute_reply": "2020-12-02T06:00:38.420352Z"
    },
    "papermill": {
     "duration": 0.248752,
     "end_time": "2020-12-02T06:00:38.421216",
     "exception": false,
     "start_time": "2020-12-02T06:00:38.172464",
     "status": "completed"
    },
    "tags": []
   },
   "outputs": [
    {
     "data": {
      "image/png": "[encoded data removed]",
      "text/plain": [
       "<Figure size 720x360 with 1 Axes>"
      ]
     },
     "metadata": {
      "needs_background": "light"
     },
     "output_type": "display_data"
    }
   ],
   "source": [
    "# use a pivot table to find the average votes of each season\n",
    "table = df_friends.pivot_table(values='Votes', index='Season', aggfunc='mean')\n",
    "\n",
    "# plot the bar plot to visualize the average votes for each season\n",
    "plt.bar(x = table.index, height = table.Votes, color = 'lightgreen')\n",
    "\n",
    "# set the x-axis labels \n",
    "plt.xticks(ticks=np.arange(1,11), labels=np.arange(1,11))\n",
    "\n",
    "# add the title and axes labels\n",
    "plt.xlabel('Season')\n",
    "plt.ylabel('Average Votes')\n",
    "plt.title('Average Votes of the Season')\n",
    "\n",
    "plt.show()"
   ]
  },
  {
   "cell_type": "markdown",
   "metadata": {
    "papermill": {
     "duration": 0.042079,
     "end_time": "2020-12-02T06:00:38.505749",
     "exception": false,
     "start_time": "2020-12-02T06:00:38.463670",
     "status": "completed"
    },
    "tags": []
   },
   "source": [
    "First season of the series received the highest number of average votes.\n",
    "\n",
    "#### Top 5 episodes in terms of stars rating"
   ]
  },
  {
   "cell_type": "code",
   "execution_count": 21,
   "metadata": {
    "execution": {
     "iopub.execute_input": "2020-12-02T06:00:38.611587Z",
     "iopub.status.busy": "2020-12-02T06:00:38.610524Z",
     "iopub.status.idle": "2020-12-02T06:00:38.616542Z",
     "shell.execute_reply": "2020-12-02T06:00:38.615464Z"
    },
    "papermill": {
     "duration": 0.067789,
     "end_time": "2020-12-02T06:00:38.616720",
     "exception": false,
     "start_time": "2020-12-02T06:00:38.548931",
     "status": "completed"
    },
    "tags": []
   },
   "outputs": [
    {
     "data": {
      "text/html": [
       "<div>\n",
       "<style scoped>\n",
       "    .dataframe tbody tr th:only-of-type {\n",
       "        vertical-align: middle;\n",
       "    }\n",
       "\n",
       "    .dataframe tbody tr th {\n",
       "        vertical-align: top;\n",
       "    }\n",
       "\n",
       "    .dataframe thead th {\n",
       "        text-align: right;\n",
       "    }\n",
       "</style>\n",
       "<table border=\"1\" class=\"dataframe\">\n",
       "  <thead>\n",
       "    <tr style=\"text-align: right;\">\n",
       "      <th></th>\n",
       "      <th>Year_of_prod</th>\n",
       "      <th>Season</th>\n",
       "      <th>Episode_Title</th>\n",
       "      <th>Duration</th>\n",
       "      <th>Summary</th>\n",
       "      <th>Director</th>\n",
       "      <th>Stars</th>\n",
       "      <th>Votes</th>\n",
       "    </tr>\n",
       "  </thead>\n",
       "  <tbody>\n",
       "    <tr>\n",
       "      <th>234</th>\n",
       "      <td>2004</td>\n",
       "      <td>10</td>\n",
       "      <td>The Last One</td>\n",
       "      <td>30</td>\n",
       "      <td>Phoebe races Ross to the airport in a bid to s...</td>\n",
       "      <td>Kevin Bright</td>\n",
       "      <td>9.7</td>\n",
       "      <td>10381</td>\n",
       "    </tr>\n",
       "    <tr>\n",
       "      <th>109</th>\n",
       "      <td>1999</td>\n",
       "      <td>5</td>\n",
       "      <td>The One Where Everybody Finds Out</td>\n",
       "      <td>22</td>\n",
       "      <td>When Phoebe finds out about Monica and Chandle...</td>\n",
       "      <td>Michael Lembeck</td>\n",
       "      <td>9.7</td>\n",
       "      <td>8066</td>\n",
       "    </tr>\n",
       "    <tr>\n",
       "      <th>233</th>\n",
       "      <td>2004</td>\n",
       "      <td>10</td>\n",
       "      <td>The Last One</td>\n",
       "      <td>30</td>\n",
       "      <td>Erica gives birth to the baby that Monica and ...</td>\n",
       "      <td>Kevin Bright</td>\n",
       "      <td>9.5</td>\n",
       "      <td>6221</td>\n",
       "    </tr>\n",
       "    <tr>\n",
       "      <th>83</th>\n",
       "      <td>1998</td>\n",
       "      <td>4</td>\n",
       "      <td>The One with the Embryos</td>\n",
       "      <td>22</td>\n",
       "      <td>Phoebe's uterus is examined for implantation o...</td>\n",
       "      <td>Kevin Bright</td>\n",
       "      <td>9.5</td>\n",
       "      <td>6006</td>\n",
       "    </tr>\n",
       "    <tr>\n",
       "      <th>36</th>\n",
       "      <td>1996</td>\n",
       "      <td>2</td>\n",
       "      <td>The One with the Prom Video</td>\n",
       "      <td>22</td>\n",
       "      <td>The gang watches a home video from the night o...</td>\n",
       "      <td>James Burrows</td>\n",
       "      <td>9.4</td>\n",
       "      <td>5736</td>\n",
       "    </tr>\n",
       "  </tbody>\n",
       "</table>\n",
       "</div>"
      ],
      "text/plain": [
       "     Year_of_prod Season                      Episode_Title  Duration  \\\n",
       "234          2004     10                       The Last One        30   \n",
       "109          1999      5  The One Where Everybody Finds Out        22   \n",
       "233          2004     10                       The Last One        30   \n",
       "83           1998      4           The One with the Embryos        22   \n",
       "36           1996      2        The One with the Prom Video        22   \n",
       "\n",
       "                                               Summary         Director  \\\n",
       "234  Phoebe races Ross to the airport in a bid to s...     Kevin Bright   \n",
       "109  When Phoebe finds out about Monica and Chandle...  Michael Lembeck   \n",
       "233  Erica gives birth to the baby that Monica and ...     Kevin Bright   \n",
       "83   Phoebe's uterus is examined for implantation o...     Kevin Bright   \n",
       "36   The gang watches a home video from the night o...    James Burrows   \n",
       "\n",
       "     Stars  Votes  \n",
       "234    9.7  10381  \n",
       "109    9.7   8066  \n",
       "233    9.5   6221  \n",
       "83     9.5   6006  \n",
       "36     9.4   5736  "
      ]
     },
     "execution_count": 21,
     "metadata": {},
     "output_type": "execute_result"
    }
   ],
   "source": [
    "# sort the dataframe based on the star rating\n",
    "sort_eps = df_friends.sort_values(by = 'Stars', ascending = False)\n",
    "\n",
    "# check the top 5 episodes \n",
    "sort_eps.head()"
   ]
  },
  {
   "cell_type": "markdown",
   "metadata": {
    "papermill": {
     "duration": 0.047039,
     "end_time": "2020-12-02T06:00:38.712157",
     "exception": false,
     "start_time": "2020-12-02T06:00:38.665118",
     "status": "completed"
    },
    "tags": []
   },
   "source": [
    "Here we can see that there are 2 episodes with the same title `The Last One`. It can be seen that these are the 2 parts on the same episode. Thus we rename the title for 233rd observation as `The Last One-I` and title of 234th episode as `The Last One-II`."
   ]
  },
  {
   "cell_type": "code",
   "execution_count": 22,
   "metadata": {
    "execution": {
     "iopub.execute_input": "2020-12-02T06:00:38.818823Z",
     "iopub.status.busy": "2020-12-02T06:00:38.817713Z",
     "iopub.status.idle": "2020-12-02T06:00:38.820639Z",
     "shell.execute_reply": "2020-12-02T06:00:38.821180Z"
    },
    "papermill": {
     "duration": 0.05982,
     "end_time": "2020-12-02T06:00:38.821345",
     "exception": false,
     "start_time": "2020-12-02T06:00:38.761525",
     "status": "completed"
    },
    "tags": []
   },
   "outputs": [],
   "source": [
    "# rename the title of 233rd episode\n",
    "df_friends.iloc[233, 2] = 'The Last One-I'\n",
    "\n",
    "# rename the title of 234th episode\n",
    "df_friends.iloc[234, 2] = 'The Last One-II'"
   ]
  },
  {
   "cell_type": "code",
   "execution_count": 23,
   "metadata": {
    "execution": {
     "iopub.execute_input": "2020-12-02T06:00:38.945459Z",
     "iopub.status.busy": "2020-12-02T06:00:38.939350Z",
     "iopub.status.idle": "2020-12-02T06:00:39.098029Z",
     "shell.execute_reply": "2020-12-02T06:00:39.097367Z"
    },
    "papermill": {
     "duration": 0.233202,
     "end_time": "2020-12-02T06:00:39.098156",
     "exception": false,
     "start_time": "2020-12-02T06:00:38.864954",
     "status": "completed"
    },
    "tags": []
   },
   "outputs": [
    {
     "data": {
      "image/png": "[encoded data removed]",
      "text/plain": [
       "<Figure size 720x360 with 1 Axes>"
      ]
     },
     "metadata": {
      "needs_background": "light"
     },
     "output_type": "display_data"
    }
   ],
   "source": [
    "# sort the dataframe based on the star rating\n",
    "sort_eps = df_friends.sort_values(by = 'Stars', ascending = False)\n",
    "\n",
    "# plot the ratings of top 5 episodes\n",
    "sns.barplot(y = sort_eps.Episode_Title[0:5], x = sort_eps.Stars[0:5], orient = 'h', palette = 'autumn', errwidth=0)\n",
    "\n",
    "# add plot title\n",
    "plt.title('Top 5 Episodes (in terms of Stars)')\n",
    "\n",
    "plt.show()"
   ]
  },
  {
   "cell_type": "markdown",
   "metadata": {
    "papermill": {
     "duration": 0.044392,
     "end_time": "2020-12-02T06:00:39.188188",
     "exception": false,
     "start_time": "2020-12-02T06:00:39.143796",
     "status": "completed"
    },
    "tags": []
   },
   "source": [
    "The series finale is the highest rated episode along with the episode where everybody finds out about Monica and Chandler.\n",
    "\n",
    "#### Top 5 episodes in terms of votes"
   ]
  },
  {
   "cell_type": "code",
   "execution_count": 24,
   "metadata": {
    "execution": {
     "iopub.execute_input": "2020-12-02T06:00:39.300435Z",
     "iopub.status.busy": "2020-12-02T06:00:39.290294Z",
     "iopub.status.idle": "2020-12-02T06:00:39.457578Z",
     "shell.execute_reply": "2020-12-02T06:00:39.456755Z"
    },
    "papermill": {
     "duration": 0.224761,
     "end_time": "2020-12-02T06:00:39.457710",
     "exception": false,
     "start_time": "2020-12-02T06:00:39.232949",
     "status": "completed"
    },
    "tags": []
   },
   "outputs": [
    {
     "data": {
      "image/png": "[encoded data removed]",
      "text/plain": [
       "<Figure size 720x360 with 1 Axes>"
      ]
     },
     "metadata": {
      "needs_background": "light"
     },
     "output_type": "display_data"
    }
   ],
   "source": [
    "# sort the dataframe based on the votes\n",
    "sort_eps = df_friends.sort_values(by = 'Votes', ascending = False)\n",
    "\n",
    "# plot the ratings of top 5 episodes\n",
    "sns.barplot(y = sort_eps.Episode_Title[0:5], x = sort_eps.Votes[0:5], orient = 'h', palette = 'Reds_r', errwidth=0)\n",
    "\n",
    "# add plot title\n",
    "plt.title('Top 5 Episodes (in terms of Votes)')\n",
    "\n",
    "plt.show()"
   ]
  },
  {
   "cell_type": "markdown",
   "metadata": {
    "papermill": {
     "duration": 0.045728,
     "end_time": "2020-12-02T06:00:39.549412",
     "exception": false,
     "start_time": "2020-12-02T06:00:39.503684",
     "status": "completed"
    },
    "tags": []
   },
   "source": [
    "We can see that top 5 episodes in terms of star rating are also the top 5 episodes in terms of votes. The last episode of the series received more than 10000 votes!!"
   ]
  },
  {
   "cell_type": "markdown",
   "metadata": {
    "papermill": {
     "duration": 0.045626,
     "end_time": "2020-12-02T06:00:39.643104",
     "exception": false,
     "start_time": "2020-12-02T06:00:39.597478",
     "status": "completed"
    },
    "tags": []
   },
   "source": [
    "## Thanks for reading!"
   ]
  }
 ],
 "metadata": {
  "kernelspec": {
   "display_name": "Python 3",
   "language": "python",
   "name": "python3"
  },
  "language_info": {
   "codemirror_mode": {
    "name": "ipython",
    "version": 3
   },
   "file_extension": ".py",
   "mimetype": "text/x-python",
   "name": "python",
   "nbconvert_exporter": "python",
   "pygments_lexer": "ipython3",
   "version": "3.8.3"
  },
  "papermill": {
   "duration": 12.168967,
   "end_time": "2020-12-02T06:00:39.797339",
   "environment_variables": {},
   "exception": null,
   "input_path": "__notebook__.ipynb",
   "output_path": "__notebook__.ipynb",
   "parameters": {},
   "start_time": "2020-12-02T06:00:27.628372",
   "version": "2.1.0"
  }
 },
 "nbformat": 4,
 "nbformat_minor": 4
}
